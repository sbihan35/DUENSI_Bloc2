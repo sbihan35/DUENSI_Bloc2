{
 "cells": [
  {
   "cell_type": "markdown",
   "metadata": {},
   "source": [
    "# <center>Algorithmes classiques - Evaluation NSI - 1<sup>ère</sup></center>\n",
    "## <center>Le bon mode de scrutin</center>\n",
    "\n",
    "**Enoncé du problème** : six régions vont voter pour la présidence de l'union européenne. Cinq candidats se présentent à l'élection :   \n",
    "- Le candidat français : François\n",
    "- Le candidat espagnol : Esperanza\n",
    "- Le candidat allemand : Ute \n",
    "- Le candidat italien : Marcello\n",
    "- Le candidat anglais : John \n",
    "\n",
    "\n",
    "On connait les intentions de votes des six région et on souhaite étudier différents modes de scrutins afin de déterminer celui qui est le plus favorable à un candidat : \n",
    "- Election à un tour \n",
    "- Election à deux tours\n",
    "- Election par élimination (last man standing)\n",
    "- Système de Borda\n",
    "- Système de Condorcet\n",
    "\n",
    "On connait le nombre d'électeurs de chaque région et leurs intentions de vote pour les cinq candidats, par ordre de préférence : \n",
    "\n",
    "| | Région 1 (7,2 M) | Région 2 (4,8 M) | Région 3 (4M) | Région 4 (3,6) | Région 5 (1,6 M) | Région 6 (0,8)\n",
    "| - | :-: | :-: | :-: | :-: | :-: | :-: |\n",
    "|1|![FR](images/FR.png)|![ALL](images/ALL.png)|![ES](images/ES.png)|![IT](images/IT.png)|![UK](images/UK.png)|![UK](images/UK.png)|\n",
    "|2|![IT](images/IT.png)|![UK](images/UK.png)|![ALL](images/ALL.png)|![ES](images/ES.png)|![ALL](images/ALL.png)|![ES](images/ES.png)|\n",
    "|3|![UK](images/UK.png)|![IT](images/IT.png)|![UK](images/UK.png)|![UK](images/UK.png)|![IT](images/IT.png)|![IT](images/IT.png)|\n",
    "|4|![ES](images/ES.png)|![ES](images/ES.png)|![IT](images/IT.png)|![ALL](images/ALL.png)|![ES](images/ES.png)|![ALL](images/ALL.png)|\n",
    "|5|![ALL](images/ALL.png)|![FR](images/FR.png)|![FR](images/FR.png)|![FR](images/FR.png)|![FR](images/FR.png)|![FR](images/FR.png)|\n",
    "\n",
    "\n",
    "## Simulation des différents modes de scrutin\n",
    "### 1. Structure des données\n",
    "Dans ce problème, on adopte les structures de données suivantes : "
   ]
  },
  {
   "cell_type": "code",
   "execution_count": 23,
   "metadata": {},
   "outputs": [
    {
     "data": {
      "text/plain": [
       "[{'nb_electeurs': 7200000,\n",
       "  'candidats': ['Francois', 'Marcello', 'John', 'Esperanza', 'Ute']},\n",
       " {'nb_electeurs': 4800000,\n",
       "  'candidats': ['Ute', 'John', 'Marcello', 'Esperanza', 'Francois']},\n",
       " {'nb_electeurs': 4000000,\n",
       "  'candidats': ['Esperanza', 'Ute', 'John', 'Marcello', 'Francois']},\n",
       " {'nb_electeurs': 3600000,\n",
       "  'candidats': ['Marcello', 'Esperanza', 'John', 'Ute', 'Francois']},\n",
       " {'nb_electeurs': 1600000,\n",
       "  'candidats': ['John', 'Ute', 'Marcello', 'Esperanza', 'Francois']},\n",
       " {'nb_electeurs': 800000,\n",
       "  'candidats': ['John', 'Esperanza', 'Marcello', 'Ute', 'Francois']}]"
      ]
     },
     "execution_count": 23,
     "metadata": {},
     "output_type": "execute_result"
    }
   ],
   "source": [
    "# on crée un dictionnaire pour chacune des six régions\n",
    "region1 = {'nb_electeurs': 7200000, 'candidats': [\"Francois\", \"Marcello\", \"John\", \"Esperanza\", \"Ute\"]}\n",
    "region2 = {'nb_electeurs': 4800000, 'candidats': [\"Ute\", \"John\", \"Marcello\", \"Esperanza\", \"Francois\"]}\n",
    "region3 = {'nb_electeurs': 4000000, 'candidats': [\"Esperanza\", \"Ute\", \"John\", \"Marcello\", \"Francois\"]}\n",
    "region4 = {'nb_electeurs': 3600000, 'candidats': [\"Marcello\", \"Esperanza\", \"John\", \"Ute\", \"Francois\"]}\n",
    "region5 = {'nb_electeurs': 1600000, 'candidats': [\"John\", \"Ute\", \"Marcello\", \"Esperanza\", \"Francois\"]}\n",
    "region6 = {'nb_electeurs': 800000, 'candidats': [\"John\", \"Esperanza\", \"Marcello\", \"Ute\", \"Francois\"]}\n",
    "\n",
    "# on regroupe les régions dans une liste\n",
    "regions = [region1, region2, region3, region4, region5, region6]\n",
    "regions"
   ]
  },
  {
   "cell_type": "markdown",
   "metadata": {},
   "source": [
    "#### **Question 1**\n",
    "A partir des structures de données ci-dessus, écrire l'instruction qui, à partir de ``regions``, permet : \n",
    "* d'afficher le nombre d'électeurs de la région ``region2`` \n",
    "\n",
    "* d'afficher le dernier candidat de la dernière région (on pourra utiliser les index négatifs)\n",
    "\n",
    "<u>Réponses</u> ci-dessous :"
   ]
  },
  {
   "cell_type": "code",
   "execution_count": 20,
   "metadata": {},
   "outputs": [
    {
     "name": "stdout",
     "output_type": "stream",
     "text": [
      "4800000\n",
      "Francois\n"
     ]
    }
   ],
   "source": [
    "print(regions[1]['nb_electeurs'])\n",
    "print(regions[-1]['candidats'][-1])"
   ]
  },
  {
   "cell_type": "markdown",
   "metadata": {},
   "source": [
    "### 2. Tri par insertion\n",
    "Nous allons avoir besoin de trier des listes de dictionnaires selon l'ordre décroissant des valeurs d'une clé (correspondant aux nombres d'électeurs, de voix, de points...).\n",
    "Voici un algorithme de tri par insertion qu'on va pouvoir utiliser :"
   ]
  },
  {
   "cell_type": "code",
   "execution_count": 24,
   "metadata": {},
   "outputs": [],
   "source": [
    "def liste_triInsertionDictionnaire(liste ,cle) : \n",
    "    for i in range(1, len(liste)): #on commence le tri de liste[0:i] \n",
    "        j = i - 1 \n",
    "        tmp = liste[i] #on stocke la valeur de liste[i] \n",
    "        while j > -1 and liste[j][cle] < tmp[cle]: \n",
    "            liste[j+1] = liste[j] #on decale les valeurs à droite \n",
    "            j -= 1 \n",
    "            liste[j+1] = tmp # on place la valeur de l'ancien liste[i] \n",
    "    return liste "
   ]
  },
  {
   "cell_type": "markdown",
   "metadata": {},
   "source": [
    "#### **Question 2** \n",
    "Donner la complexité du tri par insertion dans le pire des cas, c'est à dire lorsque les données sont triées par ordre croissant.\n",
    "\n",
    "<u>Réponse</u> : dans le pire des cas, la complexité est en O(n<sup>2</sup>)\n",
    "\n",
    "#### **Question 3**\n",
    "Décrire un invariant de boucle de la fonction ``liste_triInsertionDictionnaire``\n",
    "\n",
    "<u>Réponse</u> : la liste ``liste[0:i+1]`` est triée dans boucle for"
   ]
  },
  {
   "cell_type": "markdown",
   "metadata": {},
   "source": [
    "### 3. Scrutin à un tour\n",
    "Un candidat remporte le nombre de voix de la région où il est arrivé en tête. \n",
    "\n",
    "S'il arrive en tête dans plusieurs régions, les voix sont ajoutés. \n",
    "\n",
    "Celui qui remporte le plus de voix est vainqueur de l'élection à un tour. "
   ]
  },
  {
   "cell_type": "code",
   "execution_count": 25,
   "metadata": {},
   "outputs": [],
   "source": [
    "def election_un_tour(regions : list) -> list :\n",
    "    \"\"\"\n",
    "    Renvoie la liste ordonnée des vainqueurs au premier tour. \n",
    "    Chaque vainqueur est un dictionnaire ayant pour clés 'candidat' (str) et 'voix' (int)\n",
    "    Préconditions : liste de dictionnaires ayant pour clés 'candidats' (liste de caractères)\n",
    "    et 'nb_electeurs' (int) \n",
    "    Postconditions : liste de dictionnaires \n",
    "    \"\"\"    \n",
    "    \n",
    "    resultats = []\n",
    "    # on récupère la liste des candidats à partir des intentions de vote de la première région\n",
    "    # (tous les candidats sont représentés dans les intentions de vote de chaque région) \n",
    "    candidats = regions[0]['candidats']\n",
    "\n",
    "    # resultats est une liste de dictionnaires qui contiennent le nom de chaque candidat et \n",
    "    # le nombre de voix qu'il obtient à l'issue d'un tour de scrutin. \n",
    "    # On initialise le nombre de voix de chaque candidat à 0     \n",
    "    for candidat in candidats :\n",
    "        resultats.append({'candidat' : candidat, 'voix' : 0}) \n",
    "        \n",
    "    # pour chaque région \n",
    "    for region in regions :  \n",
    "        # le favori est le candidat arrivé en tête des intentions\n",
    "        favori = region['candidats'][0]                   \n",
    "        \n",
    "        # on ajoute les voix des électeurs de la région au favori  \n",
    "        for candidat in resultats :\n",
    "            if candidat['candidat'] == favori : \n",
    "                candidat['voix'] += region['nb_electeurs'] \n",
    "                \n",
    "    return liste_triInsertionDictionnaire(resultats, 'voix')"
   ]
  },
  {
   "cell_type": "code",
   "execution_count": 26,
   "metadata": {},
   "outputs": [
    {
     "data": {
      "text/plain": [
       "[{'candidat': 'Francois', 'voix': 7200000},\n",
       " {'candidat': 'Ute', 'voix': 4800000},\n",
       " {'candidat': 'Esperanza', 'voix': 4000000},\n",
       " {'candidat': 'Marcello', 'voix': 3600000},\n",
       " {'candidat': 'John', 'voix': 2400000}]"
      ]
     },
     "execution_count": 26,
     "metadata": {},
     "output_type": "execute_result"
    }
   ],
   "source": [
    "election_un_tour(regions)"
   ]
  },
  {
   "cell_type": "markdown",
   "metadata": {},
   "source": [
    "#### **Question 4**\n",
    "Un message d'erreur s'est affiché à l'exécution de la fonction. \n",
    "\n",
    "Identifier l'erreur et quelle correction doit-on apporter à la fonction ``election_un_tour``\n",
    "\n",
    "<u>Réponse</u> : la liste ``resultats`` n'est pas définie. Il faut ajouter l'instruction ``resultats=[]`` avant la 1<sup>ère</sup> boucle ``for``."
   ]
  },
  {
   "cell_type": "markdown",
   "metadata": {},
   "source": [
    "### 4. Scrutin à deux tours\n",
    "Les deux candidats en tête du premier tour sont qualifiés pour le 2<sup>nd</sup> tour. \n",
    "\n",
    "Au second tour, pour les régions qui n'ont pas voté pour les qualifiés du premier tour, on reporte le nombre d'électeurs  sur le qualifié qui est le mieux placé dans les intentions de vote de la région. \n",
    "\n",
    "Le vainqueur est celui qui a obtenu le plus de voix à l'issue du deuxième tour."
   ]
  },
  {
   "cell_type": "code",
   "execution_count": 27,
   "metadata": {},
   "outputs": [],
   "source": [
    "def election_deux_tours(regions : list) -> list :\n",
    "    \"\"\"\n",
    "    Renvoie la liste ordonnée des vainqueurs. \n",
    "    Chaque vainqueur est un dictionnaire ayant pour clés 'candidat' (str) et 'voix' (int)\n",
    "    Préconditions : liste de dictionnaires ayant pour clés 'candidats' (liste de caractères)\n",
    "    et 'nb_electeurs' (int) \n",
    "    Postconditions : liste de dictionnaires \n",
    "    \"\"\"\n",
    "    \n",
    "    # on récupère les deux candidats en tête du premier tour\n",
    "    vainqueurs_premier_tour = election_un_tour(regions)\n",
    "    qualifie1 = vainqueurs_premier_tour[0]['candidat']\n",
    "    qualifie2 = vainqueurs_premier_tour[1]['candidat']\n",
    "    qualifie1_voix = vainqueurs_premier_tour[0]['voix']\n",
    "    qualifie2_voix = vainqueurs_premier_tour[1]['voix']\n",
    "\n",
    "    # pour le deuxième tour, on crée une liste pour comptabiliser \n",
    "    # les voix des deux favoris dans les régions où ils n'ont pas \n",
    "    # été choisis au premier tour\n",
    "    vainqueurs_deuxieme_tour = {qualifie1 : qualifie1_voix, qualifie2 : qualifie2_voix}\n",
    "    \n",
    "    # on parcourt les régions\n",
    "    for region in regions :\n",
    "        if region['candidats'][0] == qualifie1 or region['candidats'][0] == qualifie2 :\n",
    "            # Comment  \n",
    "            continue\n",
    "            \n",
    "        # cette région n'a pas choisi les qualifiés au premier tour\n",
    "        # on parcourt donc ses candidats jusqu'à rencontrer l'un des deux qualifiés \n",
    "        for i in range (1, len(region['candidats'])) :\n",
    "            if region['candidats'][i] == qualifie1 or region['candidats'][i] == qualifie2 :\n",
    "                vainqueurs_deuxieme_tour[region['candidats'][i]] += region['nb_electeurs']\n",
    "                break # Comment\n",
    "\n",
    "    # Mise en forme des résultats dans une liste de dictionnaires\n",
    "    resultats_second_tour = []\n",
    "    for candidat, nb_voix in vainqueurs_deuxieme_tour.items() :\n",
    "        vainqueur = dict()\n",
    "        vainqueur['candidat'] = candidat\n",
    "        vainqueur['voix'] = nb_voix\n",
    "        resultats_second_tour.append(vainqueur)\n",
    "        \n",
    "    return liste_triInsertionDictionnaire(resultats_second_tour, 'voix')       "
   ]
  },
  {
   "cell_type": "code",
   "execution_count": 28,
   "metadata": {},
   "outputs": [
    {
     "data": {
      "text/plain": [
       "[{'candidat': 'Ute', 'voix': 14800000},\n",
       " {'candidat': 'Francois', 'voix': 7200000}]"
      ]
     },
     "execution_count": 28,
     "metadata": {},
     "output_type": "execute_result"
    }
   ],
   "source": [
    "election_deux_tours(regions)"
   ]
  },
  {
   "cell_type": "markdown",
   "metadata": {},
   "source": [
    "#### **Question 5**\n",
    "- La fonction ``election_deux_tours`` utilise les instructions ``continue`` et ``break``.\n",
    "Que réalise ces deux instructions ? \n",
    "\n",
    "Réponse : placée dans une boucle, l'instruction ``break`` arrête l'exécution de la boucle\n",
    "placée dans une boucle, l'instruction ``continue`` passe toute de suite à l'itération suivante de la boucle\n",
    "\n",
    "- Quels commentaires pourrait-on ajouter lignes 25 et 33 qui préciseraient le rôle de ces instructions dans le contexte de l'algorithme de la fonction ``election_deux_tours``? \n",
    "\n",
    "Réponse : exemple de commentaires \n",
    "- ligne 25 : ``# la région a choisi l'un des deux qualifiés au premier tour on passe à la région suivante``\n",
    "- ligne 33 : ``# le candidat est un des qualifiés du premier tour, on arrête de parcourir les candidats de cette région ``"
   ]
  },
  {
   "cell_type": "markdown",
   "metadata": {},
   "source": [
    "###  5. Scrutin par élimination\n",
    "On réalise plusieurs  tours. A chaque tour, le candidat qui a le moins de voix est éliminé. \n",
    "Le candidat restant est le vainqueur. "
   ]
  },
  {
   "cell_type": "code",
   "execution_count": 31,
   "metadata": {},
   "outputs": [],
   "source": [
    "def election_par_elimination(regions : list) -> list:\n",
    "    \"\"\"\n",
    "    Renvoie la liste ordonnée des vainqueurs. \n",
    "    Chaque vainqueur est un dictionnaire ayant pour clés 'candidat' (str) et 'voix' (int)\n",
    "    Préconditions : liste de dictionnaires ayant pour clés 'candidats' (liste de caractères)\n",
    "    et 'nb_electeurs' (int) \n",
    "    Postconditions : liste de dictionnaires \n",
    "    \"\"\"\n",
    "    \n",
    "    # liste des candidat éliminés à chaque tour\n",
    "    candidats_elimines = []\n",
    "    nb_candidats = len(regions[0]['candidats'])\n",
    "    nb_candidats_en_lice = nb_candidats\n",
    "    \n",
    "    regions_courantes = regions\n",
    "\n",
    "    while nb_candidats_en_lice > 1 : \n",
    "        candidats_en_lice = election_un_tour(regions_courantes)\n",
    "                               \n",
    "        # on ajoute le candidat éliminé à la liste des candidats éliminés :\n",
    "        candidats_elimines.append(candidats_en_lice[-1][\"candidat\"])\n",
    "        nb_candidats_en_lice -= 1 # il y a donc un candidat en lice en moins\n",
    "        \n",
    "        # on reconstruit les régions avec, pour chacune d'elles, la liste des candidats moins ceux éliminés\n",
    "        regions_courantes = []\n",
    "        \n",
    "        for region in regions :\n",
    "            # nouvelle région avec le même nombre d'électeurs et la liste des candidats inititalisée à vide                    \n",
    "            region_courante = {\"nb_electeurs\" : region[\"nb_electeurs\"] , \"candidats\" : []} \n",
    "            \n",
    "            for i in range(nb_candidats) :\n",
    "                # on ajoute les candidats de la région non éliminés à la liste des candidats\n",
    "                if region[\"candidats\"][i] not in candidats_elimines :\n",
    "                    region_courante[\"candidats\"].append(region[\"candidats\"][i]) \n",
    "                            \n",
    "            # on ajoute la région actualisée à la liste des régions actualisées\n",
    "            regions_courantes.append(region_courante)\n",
    "              \n",
    "    return candidats_en_lice"
   ]
  },
  {
   "cell_type": "code",
   "execution_count": 32,
   "metadata": {},
   "outputs": [
    {
     "data": {
      "text/plain": [
       "[{'candidat': 'Esperanza', 'voix': 14800000},\n",
       " {'candidat': 'Francois', 'voix': 7200000}]"
      ]
     },
     "execution_count": 32,
     "metadata": {},
     "output_type": "execute_result"
    }
   ],
   "source": [
    "election_par_elimination(regions)"
   ]
  },
  {
   "cell_type": "markdown",
   "metadata": {},
   "source": [
    "#### **Question 6** \n",
    "Justifier la terminaison de la fonction ``election_par_elimination`` \n",
    "\n",
    "<u>Réponse</u> : la fonction contient trois boucles imbriquées. Les deux boucles ``for`` parcourt une liste qui n'est pas modifiée. Ces boucles se terminent. La boucle ``while`` extérieure est conditionnelle au variant de boucle ``nb_candidats_en_lice`` qui est décrémentée de 1 à chaque itération. Le variant atteindra la valeur 1 et on est arruré que la boucle se termine.    "
   ]
  },
  {
   "cell_type": "markdown",
   "metadata": {},
   "source": [
    "### 6. Scrutin de Borda"
   ]
  },
  {
   "cell_type": "code",
   "execution_count": 33,
   "metadata": {},
   "outputs": [],
   "source": [
    "def election_borda(regions : list) -> list :\n",
    "    \"\"\"\n",
    "    Renvoie la liste ordonnée des vainqueurs. \n",
    "    Chaque vainqueur est un dictionnaire ayant pour clés 'candidat' (str) et 'points' (int)\n",
    "    Préconditions : liste de dictionnaires ayant pour clés 'candidats' (liste de caractères)\n",
    "    et 'nb_electeurs' (int) \n",
    "    Postconditions : liste de dictionnaires \n",
    "    \"\"\"\n",
    "        \n",
    "    # initialisation de la liste des candidats avec le nombre de points à 0\n",
    "    vainqueurs_borda = dict()\n",
    "    nb_candidats = len(regions[0]['candidats'])\n",
    "    for i in range(nb_candidats) : \n",
    "        vainqueurs_borda[regions[0]['candidats'][i]] = 0\n",
    "\n",
    "    # pour chaque région, on calcule les points de chaque candidat \n",
    "    # le principe coefficienté par son arrivée \n",
    "    # de vote \n",
    "    for region in regions : \n",
    "        coefficient = len(regions[0]['candidats'])\n",
    "        for candidat in region['candidats'] : \n",
    "            vainqueurs_borda[candidat] += coefficient * region['nb_electeurs']\n",
    "            coefficient -= 1 # on passe au candidat suivant, le coefficient baisse\n",
    "            \n",
    "    #on remet en forme les vainqueurs dans une liste de dictionnaires\n",
    "    vainqueurs = []\n",
    "    for candidat, nb_points in vainqueurs_borda.items() :\n",
    "        vainqueur = dict()\n",
    "        vainqueur['candidat'] = candidat\n",
    "        vainqueur['points'] = nb_points\n",
    "        vainqueurs.append(vainqueur)\n",
    "                          \n",
    "    return liste_triInsertionDictionnaire(vainqueurs,'points')"
   ]
  },
  {
   "cell_type": "code",
   "execution_count": 34,
   "metadata": {},
   "outputs": [
    {
     "name": "stdout",
     "output_type": "stream",
     "text": [
      "[{'candidat': 'Marcello', 'points': 76400000}, {'candidat': 'John', 'points': 75600000}, {'candidat': 'Esperanza', 'points': 64800000}, {'candidat': 'Ute', 'points': 62400000}, {'candidat': 'Francois', 'points': 50800000}]\n"
     ]
    }
   ],
   "source": [
    "print(election_borda(regions))"
   ]
  },
  {
   "cell_type": "markdown",
   "metadata": {},
   "source": [
    "#### **Question 7**\n",
    "Décrire dans ses grandes lignes le principe du scrutin de Borda en détaillant notamment le principe de calcul du nombre de points de chaque candidat. On pourra se baser sur notre exemple avec six régions et cinq candidats. \n",
    "\n",
    "<u>Réponse</u>:\n",
    "Le scrutin de Borda calcule un certain nombre de points pour chaque candidat dans chaque région. \n",
    "\n",
    "Dans une région donnée, dans notre exemple, le candidat arrivé en tête se voit attribué 5 points (le nombre de candidats) par électeurs, le deuxième, 4 points par électeurs, le troisième, 3 points, etc.  \n",
    "On cumule ce nombre de points à ceux obtenus dans toutes les régions. \n",
    "\n",
    "Le vainqueur est celui qui a le plus de points."
   ]
  },
  {
   "cell_type": "markdown",
   "metadata": {},
   "source": [
    "### 7. Scrutin de Condorcet\n",
    "Chaque candidat affronte chacun des autres dans un duel. Quand deux candidats s'affrontent, chacun remporte les voix des régions dans lesquelles il est arrivé devant l'autre dans les intentions de vote ; le candidat ayant remporté le plus de voix gagne alors le duel.\n",
    "\n",
    "Le candidat ayant gagné le plus de duels gagne le scrutin."
   ]
  },
  {
   "cell_type": "code",
   "execution_count": 35,
   "metadata": {},
   "outputs": [],
   "source": [
    "def election_condorcet(regions : list) -> list : \n",
    "    \"\"\"\n",
    "    Renvoie la liste ordonnée des vainqueurs. \n",
    "    Chaque vainqueur est un dictionnaire ayant pour clés 'candidat' (str) et 'duels' (int)\n",
    "    Préconditions : liste de dictionnaires ayant pour clés 'candidats' (liste de caractères)\n",
    "    et 'nb_electeurs' (int) \n",
    "    Postconditions : liste de dictionnaires \n",
    "    \"\"\"\n",
    "    \n",
    "    # on initialise à 0 un tableau des duels à double entrée :\n",
    "    # candidat1 en ligne versus candidat2 en colonne\n",
    "    \n",
    "    nb_candidats = len(regions[0]['candidats'])\n",
    "    duels = []\n",
    "    #une ligne par candidat\n",
    "    for i in range(nb_candidats) : \n",
    "        ligne = []\n",
    "        for j in range(nb_candidats) : \n",
    "             ligne.append(0)\n",
    "        duels.append(ligne)\n",
    " \n",
    "    # on crée une table d'index des candidats\n",
    "    candidats = regions[0]['candidats']\n",
    "    \n",
    "    #pour chaque région\n",
    "    for region in regions :\n",
    "        #pour les duels des candidats de chaque région\n",
    "        for candidat1 in region['candidats'] :\n",
    "            index_candidat1 = region['candidats'].index(candidat1)\n",
    "            # on ajoute le nombre d'électeurs à ses duels contre tous les candidats suivants  \n",
    "            for candidat2 in region['candidats'][index_candidat1+1:] :\n",
    "                duels[candidats.index(candidat1)][candidats.index(candidat2)] += region['nb_electeurs']\n",
    "\n",
    "    # on identifie les duels gagnés \n",
    "    for i in range(len(candidats)) :\n",
    "        for j in range(i+1, len(duels[i])) : \n",
    "            if duels[i][j] > duels[j][i] :\n",
    "                duels[i][j] = 1 # duel gagné  \n",
    "                duels[j][i] = 0 # duel perdu \n",
    "            else :\n",
    "                duels[i][j] = 0 \n",
    "                duels[j][i] = 1\n",
    "                    \n",
    "    # Comptage des duels gagnés et mise en forme des résultats dans une liste de dictionnaires \n",
    "    vainqueurs = []\n",
    "    for candidat in candidats :\n",
    "        vainqueur = dict()\n",
    "        vainqueur['candidat'] = candidat\n",
    "        vainqueur['duels'] = sum(duels[candidats.index(candidat)])\n",
    "        vainqueurs.append(vainqueur)\n",
    "                          \n",
    "    return liste_triInsertionDictionnaire(vainqueurs,'duels')"
   ]
  },
  {
   "cell_type": "code",
   "execution_count": 36,
   "metadata": {},
   "outputs": [
    {
     "data": {
      "text/plain": [
       "[{'candidat': 'John', 'duels': 4},\n",
       " {'candidat': 'Marcello', 'duels': 3},\n",
       " {'candidat': 'Esperanza', 'duels': 2},\n",
       " {'candidat': 'Ute', 'duels': 1},\n",
       " {'candidat': 'Francois', 'duels': 0}]"
      ]
     },
     "execution_count": 36,
     "metadata": {},
     "output_type": "execute_result"
    }
   ],
   "source": [
    "election_condorcet(regions)"
   ]
  },
  {
   "cell_type": "markdown",
   "metadata": {},
   "source": [
    "#### **Question 8***\n",
    "Docstring ? "
   ]
  },
  {
   "cell_type": "markdown",
   "metadata": {},
   "source": [
    "###  8. Simulation de tous les modes de scrutins\n",
    "Finalement, on simule tous les modes de scrutins sur les intentions de vote de nos six régions et on s'aperçoit que le vainqueur chanque à chaque fois ! "
   ]
  },
  {
   "cell_type": "code",
   "execution_count": 37,
   "metadata": {},
   "outputs": [
    {
     "name": "stdout",
     "output_type": "stream",
     "text": [
      "Francois gagne avec des élections à un tour\n",
      "Ute gagne avec des élections à deux tours\n",
      "Esperanza gagne avec des élections par élimination\n",
      "Marcello gagne avec un scrutin de Borda\n",
      "John gagne avec un scrutin de Condorcet\n"
     ]
    }
   ],
   "source": [
    "# on ne tient pas compte des potentiels ex-aequo\n",
    "print(election_un_tour(regions)[0]['candidat'],\"gagne avec des élections à un tour\")\n",
    "print(election_deux_tours(regions)[0]['candidat'],\"gagne avec des élections à deux tours\")\n",
    "print(election_par_elimination(regions)[0]['candidat'],\"gagne avec des élections par élimination\")\n",
    "print(election_borda(regions)[0]['candidat'],\"gagne avec un scrutin de Borda\")\n",
    "print(election_condorcet(regions)[0]['candidat'],\"gagne avec un scrutin de Condorcet\")"
   ]
  }
 ],
 "metadata": {
  "kernelspec": {
   "display_name": "Python 3",
   "language": "python",
   "name": "python3"
  },
  "language_info": {
   "codemirror_mode": {
    "name": "ipython",
    "version": 3
   },
   "file_extension": ".py",
   "mimetype": "text/x-python",
   "name": "python",
   "nbconvert_exporter": "python",
   "pygments_lexer": "ipython3",
   "version": "3.7.6"
  }
 },
 "nbformat": 4,
 "nbformat_minor": 4
}
