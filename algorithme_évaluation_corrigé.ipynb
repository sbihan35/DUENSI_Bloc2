{
 "cells": [
  {
   "cell_type": "markdown",
   "metadata": {
    "colab_type": "text",
    "id": "2-ToYp8xvLTB"
   },
   "source": [
    "# Le bon mode de scrutin\n",
    "\n",
    "## 1- Introduction\n",
    "Six régions vont voter pour la présidence de l'union européenne. Cinq candidats se présentent à l'élection :   \n",
    "- Le candidat français : François\n",
    "- Le candidat espagnol : Esperanza\n",
    "- Le candidat allemand : Ute \n",
    "- Le candidat italien : Marcello\n",
    "- Le candidat anglais : John \n",
    "\n",
    "\n",
    "Différents modes de scrutins sont étudiés afin de déterminer celui qui est le plus favorable à un candidat : \n",
    "- Election à un tour \n",
    "- Election à deux tours\n",
    "- Election par élimination (last man standing)\n",
    "- Système de Borda\n",
    "- Système de Condorcet\n",
    "\n",
    "Cliquez sur cette [vidéo](https://www.youtube.com/watch?v=B2JvW8ma9Vc) pour visualiser les différents modes de scrutin.\n",
    "\n",
    "\n",
    "## 2- Intentions de vote\n",
    "Dans cet exercice, on considère les intentions de vote des six régions suivantes avec leur nombre d'électeurs : \n",
    "\n",
    "| | Région 1 (7,2 M) | Région 2 (4,8 M) | Région 3 (4M) | Région 4 (3,6) | Région 5 (1,6 M) | Région 6 (0,8)\n",
    "| - | :-: | :-: | :-: | :-: | :-: | :-: |\n",
    "|1|![FR](images/FR.png)|![ALL](images/ALL.png)|![ES](images/ES.png)|![IT](images/IT.png)|![UK](images/UK.png)|![UK](images/UK.png)|\n",
    "|2|![IT](images/IT.png)|![UK](images/UK.png)|![ALL](images/ALL.png)|![ES](images/ES.png)|![ALL](images/ALL.png)|![ES](images/ES.png)|\n",
    "|3|![UK](images/UK.png)|![IT](images/IT.png)|![UK](images/UK.png)|![UK](images/UK.png)|![IT](images/IT.png)|![IT](images/IT.png)|\n",
    "|4|![ES](images/ES.png)|![ES](images/ES.png)|![IT](images/IT.png)|![ALL](images/ALL.png)|![ES](images/ES.png)|![ALL](images/ALL.png)|\n",
    "|5|![ALL](images/ALL.png)|![FR](images/FR.png)|![FR](images/FR.png)|![FR](images/FR.png)|![FR](images/FR.png)|![FR](images/FR.png)|\n",
    "\n",
    "\n",
    "\n"
   ]
  },
  {
   "cell_type": "markdown",
   "metadata": {
    "colab_type": "text",
    "id": "DiMRfo41vLTF"
   },
   "source": [
    "## 3- Structure de données\n",
    "On crée une liste de régions, chaque région est un dictionnaire donnant le nombre d'électeurs de la région et la liste de leurs candidats favoris dans l'ordre. \n"
   ]
  },
  {
   "cell_type": "code",
   "execution_count": 1,
   "metadata": {
    "colab": {
     "base_uri": "https://localhost:8080/",
     "height": 330
    },
    "colab_type": "code",
    "executionInfo": {
     "elapsed": 937,
     "status": "ok",
     "timestamp": 1593883451456,
     "user": {
      "displayName": "Stéphane Bihan",
      "photoUrl": "",
      "userId": "11017077608713182321"
     },
     "user_tz": -120
    },
    "id": "_ymHRoDsvLTK",
    "outputId": "f5ba075c-31ca-4337-d84e-4e067234e1ab"
   },
   "outputs": [
    {
     "name": "stdout",
     "output_type": "stream",
     "text": [
      "[{'nb_electeurs': 7200000, 'favoris': ['Francois', 'Marcello', 'John', 'Esperanza', 'Ute']}, {'nb_electeurs': 4800000, 'favoris': ['Ute', 'John', 'Marcello', 'Esperanza', 'Francois']}, {'nb_electeurs': 4000000, 'favoris': ['Esperanza', 'Ute', 'John', 'Marcello', 'Francois']}, {'nb_electeurs': 3600000, 'favoris': ['Marcello', 'Esperanza', 'John', 'Ute', 'Francois']}, {'nb_electeurs': 1600000, 'favoris': ['John', 'Ute', 'Marcello', 'Esperanza', 'Francois']}, {'nb_electeurs': 800000, 'favoris': ['John', 'Esperanza', 'Marcello', 'Ute', 'Francois']}]\n"
     ]
    }
   ],
   "source": [
    "# on crée un dictionnaire pour chacune des six régions\n",
    "region1 = {\"nb_electeurs\":7200000 , \"favoris\":[\"Francois\",\"Marcello\",\"John\",\"Esperanza\",\"Ute\"]}\n",
    "region2 = {\"nb_electeurs\":4800000 , \"favoris\":[\"Ute\",\"John\",\"Marcello\",\"Esperanza\",\"Francois\"]}\n",
    "region3 = {\"nb_electeurs\":4000000 , \"favoris\":[\"Esperanza\",\"Ute\",\"John\",\"Marcello\",\"Francois\"]}\n",
    "region4 = {\"nb_electeurs\":3600000 , \"favoris\":[\"Marcello\",\"Esperanza\",\"John\",\"Ute\",\"Francois\"]}\n",
    "region5 = {\"nb_electeurs\":1600000 , \"favoris\":[\"John\",\"Ute\",\"Marcello\",\"Esperanza\",\"Francois\"]}\n",
    "region6 = {\"nb_electeurs\":800000 , \"favoris\":[\"John\",\"Esperanza\",\"Marcello\",\"Ute\",\"Francois\"]}\n",
    "\n",
    "# on regroupe les régions dans une liste\n",
    "regions = [region1, region2, region3, region4, region5, region6]\n",
    "print(regions)"
   ]
  },
  {
   "cell_type": "markdown",
   "metadata": {},
   "source": [
    "## 4- Algorithme de tri\n",
    "Nous allons avoir besoin de trier des listes de dictionnaires selon l'ordre décroissant des valeurs d'une clé (correspondant aux nombres d'électeurs, de voix, de points...).\n",
    "Voici un algorithme de tri par insertion qu'on va pouvoir utiliser :"
   ]
  },
  {
   "cell_type": "code",
   "execution_count": 3,
   "metadata": {
    "colab": {},
    "colab_type": "code",
    "executionInfo": {
     "elapsed": 866,
     "status": "ok",
     "timestamp": 1593883458955,
     "user": {
      "displayName": "Stéphane Bihan",
      "photoUrl": "",
      "userId": "11017077608713182321"
     },
     "user_tz": -120
    },
    "id": "GWuq1QVHvLTf"
   },
   "outputs": [],
   "source": [
    "#d'après module I ; Erwann Gallenne - modifié pour ordre décroissant\n",
    "def liste_triInsertionDictionnaire(liste ,cle) : \n",
    "    for i in range(1, len(liste)): #on commence le tri de liste[0:i] \n",
    "        j = i - 1 \n",
    "        tmp = liste[i] #on stocke la valeur de liste[i] \n",
    "        while j > -1 and liste[j][cle] < tmp[cle]: \n",
    "            liste[j+1] = liste[j] #on decale les valeurs à droite \n",
    "            j -= 1 \n",
    "            liste[j+1] = tmp # on place la valeur de l'ancien liste[i] \n",
    "    return liste "
   ]
  },
  {
   "cell_type": "markdown",
   "metadata": {
    "colab_type": "text",
    "id": "tp2kAKoHvLTr"
   },
   "source": [
    "## 3- Simulation des différents modes de scrutin\n",
    "### a) Election à un tour\n",
    "Chaque candidat remporte les voix des électeurs des régions où il est arrivé en tête, le candidat avec le plus de voix remporte les élections."
   ]
  },
  {
   "cell_type": "code",
   "execution_count": 4,
   "metadata": {
    "colab": {
     "base_uri": "https://localhost:8080/",
     "height": 34
    },
    "colab_type": "code",
    "executionInfo": {
     "elapsed": 925,
     "status": "ok",
     "timestamp": 1593883557180,
     "user": {
      "displayName": "Stéphane Bihan",
      "photoUrl": "",
      "userId": "11017077608713182321"
     },
     "user_tz": -120
    },
    "id": "ubGRxYIAvLT_",
    "outputId": "40925f95-cafb-47da-bbe5-8130b36befb1"
   },
   "outputs": [],
   "source": [
    "def scrutin_un_tour(regions : list) -> list :\n",
    "    \n",
    "    resultats = []\n",
    "    # chaque région votant pour tous les candidats, on récupère la liste des candidats\n",
    "    # (de la première région par exemple)\n",
    "    candidats = regions[0][\"favoris\"]\n",
    "\n",
    "    # resultats est une liste de dictionnaires donnant le nom de chaque candidat et \n",
    "    # le nombre de voix qu'il obtient à l'issue d'un tour de scrutin. \n",
    "    # On initialise le nombre de voix de chaque candidat à 0     \n",
    "    for candidat in candidats:\n",
    "        resultats.append({\"candidat\" : candidat, \"voix\" : 0}) \n",
    "        \n",
    "    # pour chaque région\n",
    "    for region in regions:             \n",
    "        # on récupère le candidat arrivé en tête dans la région\n",
    "        vainqueur = region[\"favoris\"][0]             \n",
    "        \n",
    "        #on ajoute son nombre de voix dans les résultats\n",
    "        for candidat in resultats:\n",
    "            if candidat[\"candidat\"] == vainqueur :       \n",
    "                candidat[\"voix\"] += region[\"nb_electeurs\"]\n",
    "                \n",
    "    return liste_triInsertionDictionnaire(resultats, \"voix\")"
   ]
  },
  {
   "cell_type": "code",
   "execution_count": 5,
   "metadata": {},
   "outputs": [
    {
     "name": "stdout",
     "output_type": "stream",
     "text": [
      "[{'candidat': 'Francois', 'voix': 7200000}, {'candidat': 'Ute', 'voix': 4800000}, {'candidat': 'Esperanza', 'voix': 4000000}, {'candidat': 'Marcello', 'voix': 3600000}, {'candidat': 'John', 'voix': 2400000}]\n"
     ]
    }
   ],
   "source": [
    "print(scrutin_un_tour(regions))"
   ]
  },
  {
   "cell_type": "markdown",
   "metadata": {
    "colab_type": "text",
    "id": "AfrG8g7SvLUI"
   },
   "source": [
    "### b) Election à deux tours\n",
    "Les deux candidats en tête du premier tour sont qualifiés pour le 2<sup>nd</sup> tour. \n",
    "Au second tour, on reporte le nombre de votants des régions en lice sur les candidats du premier tour.  \n",
    "\n",
    "Le vainqueur est celui qui a obtenu le plus de votants au deuxième tour."
   ]
  },
  {
   "cell_type": "code",
   "execution_count": 37,
   "metadata": {
    "colab": {},
    "colab_type": "code",
    "id": "8YRtmxeRy4KH"
   },
   "outputs": [
    {
     "name": "stdout",
     "output_type": "stream",
     "text": [
      "Au premier tour les gagnants sont : François 7200000 voix et Ute 4800000 voix\n",
      "Au deuxième tour le gagnant est : Ute\n",
      "[{'candidat': 'Ute', 'nb_voix': 10000000}, {'candidat': 'François', 'nb_voix': 0}]\n"
     ]
    }
   ],
   "source": [
    "#%%tutor\n",
    "\n",
    "def scrutin_deux_tours(regions : list) :\n",
    "    \n",
    "    # on réalise d'abord un premier tour \n",
    "    vainqueurs_premier_tour = scrutin_un_tour(regions)\n",
    "    vainqueur1 = vainqueurs_premier_tour[0]['candidat']\n",
    "    vainqueur2 = vainqueurs_premier_tour[1]['candidat']\n",
    "    print(\"Au premier tour les gagnants sont :\", vainqueur1, vainqueurs_premier_tour[0]['nb_voix'], \"voix et\", vainqueur2, vainqueurs_premier_tour[1]['nb_voix'], \"voix\")\n",
    "\n",
    "    # pour le deuxième tour, on crée une liste comptabilisant les voix des deux candidats \n",
    "    # dans les régions n'ayant pas voté pour eux au premier tour\n",
    "    vainqueurs_deuxieme_tour = {vainqueur1 : 0, vainqueur2 : 0}\n",
    "    \n",
    "    # on parcourt le scrutin par région\n",
    "    for region in regions :\n",
    "        #print(\"region\", region['region_id'])\n",
    "        if region['favoris'][0] == vainqueur1 or region['favoris'][0] == vainqueur2 :\n",
    "            # la région a voté au premier tour pour l'un des deux vainqueurs\n",
    "            # on passe à la région suivante\n",
    "            # print(\"Candidat\", region['elus'][0], \": on passe à la région suivante\")\n",
    "            continue\n",
    "        else :\n",
    "            #on parcourt les élus suivants jusqu'à ce qu'il soit l'un des deux candidats du 1er tour\n",
    "            for i in range (1, len(region['favoris'])) :\n",
    "                # print(region['elus'][i])\n",
    "                if region['favoris'][i] == vainqueur2 or region['favoris'][i] == vainqueur2 :\n",
    "                    vainqueurs_deuxieme_tour[region['favoris'][i]] += region['nb_votants']\n",
    "                    # print(\"on ajoute,\", region['nb_votants'], \"soit\", vainqueurs_deuxieme_tour[region['elus'][i]] )\n",
    "                    break\n",
    "\n",
    "    #Mise en forme\n",
    "    vainqueurs = []\n",
    "    for candidat, nb_voix in vainqueurs_deuxieme_tour.items() :\n",
    "        vainqueur = dict()\n",
    "        vainqueur['candidat'] = candidat\n",
    "        vainqueur['nb_voix'] = nb_voix\n",
    "        vainqueurs.append(vainqueur)\n",
    "        \n",
    "    print(\"Au deuxième tour le gagnant est :\", vainqueurs[0]['candidat'] if vainqueurs[0]['nb_voix'] > vainqueurs[1]['nb_voix'] else vainqueurs[1]['candidat'])\n",
    "    return tri_decroissant(vainqueurs,'nb_voix')\n",
    "    \n",
    "print(scrutin_deux_tours(regions))"
   ]
  },
  {
   "cell_type": "markdown",
   "metadata": {},
   "source": [
    "### c) Election par élimination"
   ]
  },
  {
   "cell_type": "code",
   "execution_count": 60,
   "metadata": {},
   "outputs": [
    {
     "name": "stdout",
     "output_type": "stream",
     "text": [
      "Tour 1 : \n",
      "[{'candidat': 'François', 'nb_voix': 7200000}, {'candidat': 'Ute', 'nb_voix': 4800000}, {'candidat': 'Esperanza', 'nb_voix': 4000000}, {'candidat': 'Marcello', 'nb_voix': 3600000}, {'candidat': 'John', 'nb_voix': 2400000}]\n",
      "Candidat éliminé : John\n",
      "[{'candidat': 'François', 'nb_voix': 7200000}, {'candidat': 'Ute', 'nb_voix': 6400000}, {'candidat': 'Esperanza', 'nb_voix': 4800000}, {'candidat': 'Marcello', 'nb_voix': 3600000}]\n",
      "Tour 2 : \n",
      "[{'candidat': 'François', 'nb_voix': 7200000}, {'candidat': 'Ute', 'nb_voix': 6400000}, {'candidat': 'Esperanza', 'nb_voix': 4800000}, {'candidat': 'Marcello', 'nb_voix': 3600000}]\n",
      "Candidat éliminé : Marcello\n",
      "[{'candidat': 'Esperanza', 'nb_voix': 8400000}, {'candidat': 'François', 'nb_voix': 7200000}, {'candidat': 'Ute', 'nb_voix': 6400000}]\n",
      "Tour 3 : \n",
      "[{'candidat': 'Esperanza', 'nb_voix': 8400000}, {'candidat': 'François', 'nb_voix': 7200000}, {'candidat': 'Ute', 'nb_voix': 6400000}]\n",
      "Candidat éliminé : Ute\n",
      "[{'candidat': 'Esperanza', 'nb_voix': 14800000}, {'candidat': 'François', 'nb_voix': 7200000}]\n",
      "Le vainqueur est : Esperanza avec 14800000 voix\n",
      "[{'candidat': 'Esperanza', 'nb_voix': 14800000}, {'candidat': 'François', 'nb_voix': 7200000}]\n"
     ]
    }
   ],
   "source": [
    "import copy\n",
    "\n",
    "def reporte_voix(regions : list, candidats : list, nb_voix : int) :\n",
    "    candidats_en_lice = []\n",
    "    for region in regions :\n",
    "        if candidats[0] != region['favoris'][0] : # sinon c'est un candidat qui sera éliminé par la suite)\n",
    "            candidats_en_lice.append(region['favoris'][0])\n",
    "    #print(candidats_en_lice)\n",
    "    \n",
    "    reporte = False\n",
    "    for candidat in candidats : \n",
    "        if candidat not in candidats_en_lice : \n",
    "            continue\n",
    "        if reporte == True : \n",
    "            break\n",
    "        for region in regions : \n",
    "            # print(\"Région\", region['region_id'], \"Elus :\", region['elus'])\n",
    "            # print(\"on vérifie\", candidat, \"avec \", region['elus'][0])\n",
    "            if candidat in candidats_en_lice and region['favoris'][0] == candidat :\n",
    "                # print(\"on reporte\", region['nb_votants'])\n",
    "                region['nb_votants'] += nb_voix\n",
    "                reporte = True\n",
    "                break\n",
    "\n",
    "def scrutin_par_elimination(regions : list) :\n",
    "    # on crée la liste des vainqueurs pour chaque tour \n",
    "    vainqueurs_elimination = scrutin_un_tour(regions)\n",
    "    \n",
    "    tour = 1 \n",
    "    while len(regions) > 2 :\n",
    "        print(\"Tour\", tour, \": \")\n",
    "        print(vainqueurs_elimination)\n",
    "        print(\"Candidat éliminé :\", vainqueurs_elimination[-1]['candidat'])\n",
    "        candidat_elimine = vainqueurs_elimination[-1]['candidat']\n",
    "        \n",
    "        for region in regions : \n",
    "            if region['favoris'][0] == candidat_elimine : \n",
    "                # on supprime la région du scrutin\n",
    "                region_eliminee = regions.pop(regions.index(region))\n",
    "                # on reporte les voix du second candidat\n",
    "                reporte_voix(regions, region_eliminee['favoris'], region['nb_votants'])\n",
    "        #on refait un tour sur le scrutin restant\n",
    "        vainqueurs_elimination = scrutin_un_tour(regions)\n",
    "        tour += 1\n",
    "\n",
    "        print(vainqueurs_elimination)\n",
    "    # Mise en forme\n",
    "    vainqueurs = []\n",
    "    for candidat in vainqueurs_elimination : \n",
    "        vainqueur = dict()\n",
    "        vainqueur['candidat'] = candidat['candidat']\n",
    "        vainqueur['nb_voix'] = candidat['nb_voix']\n",
    "        vainqueurs.append(vainqueur)\n",
    "    print(\"Le vainqueur est :\", vainqueurs[0]['candidat'],\"avec\", vainqueurs[0]['nb_voix'], \"voix\" )\n",
    "    return tri_decroissant(vainqueurs, 'nb_voix')\n",
    "\n",
    "print(scrutin_par_elimination(copy.deepcopy(regions)))\n",
    "\n",
    "    "
   ]
  },
  {
   "cell_type": "markdown",
   "metadata": {},
   "source": [
    "### d) Scrutin de Borda"
   ]
  },
  {
   "cell_type": "code",
   "execution_count": 44,
   "metadata": {},
   "outputs": [
    {
     "name": "stdout",
     "output_type": "stream",
     "text": [
      "[{'candidat': 'Marcello', 'nb_voix': 76400000}, {'candidat': 'John', 'nb_voix': 75600000}, {'candidat': 'Esperanza', 'nb_voix': 64800000}, {'candidat': 'Ute', 'nb_voix': 62400000}, {'candidat': 'François', 'nb_voix': 50800000}]\n"
     ]
    }
   ],
   "source": [
    "def scrutin_borda(regions : list) :\n",
    "    \n",
    "    # initialisation de la liste des vainqueurs avec le nombre de voix à 0\n",
    "    vainqueurs_borda = dict()\n",
    "    for i in range(len(regions[0]['favoris'])) : \n",
    "        vainqueurs_borda[regions[0]['favoris'][i]] = 0\n",
    "\n",
    "    for region in regions : \n",
    "        coefficient = len(regions[0]['favoris'])\n",
    "        for candidat in region['favoris'] : \n",
    "            vainqueurs_borda[candidat] += coefficient * region['nb_votants']\n",
    "            coefficient -= 1\n",
    "            \n",
    "    vainqueurs = []\n",
    "    for candidat, nb_voix in vainqueurs_borda.items() :\n",
    "        vainqueur = dict()\n",
    "        vainqueur['candidat'] = candidat\n",
    "        vainqueur['nb_voix'] = nb_voix\n",
    "        vainqueurs.append(vainqueur)\n",
    "                          \n",
    "    return tri_decroissant(vainqueurs,'nb_voix')\n",
    "\n",
    "print(scrutin_borda(regions))"
   ]
  },
  {
   "cell_type": "markdown",
   "metadata": {},
   "source": [
    "### e) Scrutin de Condorcet "
   ]
  },
  {
   "cell_type": "code",
   "execution_count": 63,
   "metadata": {},
   "outputs": [
    {
     "name": "stdout",
     "output_type": "stream",
     "text": [
      "\n",
      "\n",
      "\n",
      "\n",
      "\n",
      "\n",
      "\n",
      "\n",
      "\n",
      "\n",
      "\n",
      "\n",
      "\n",
      "\n",
      "\n",
      "\n",
      "\n",
      "\n",
      "\n",
      "\n",
      "[{'candidat': 'John', 'duels': 4}, {'candidat': 'Marcello', 'duels': 3}, {'candidat': 'Esperanza', 'duels': 2}, {'candidat': 'Ute', 'duels': 1}, {'candidat': 'François', 'duels': 0}]\n"
     ]
    }
   ],
   "source": [
    "def scrutin_condorcet(regions : list) : \n",
    "    \n",
    "    duels = []\n",
    "    # on initialise un tableau des duels à double entrée\n",
    "    # candidat en ligne versus candidat en colonne\n",
    "    for i in range(len(regions[0]['favoris'])) : \n",
    "        ligne = []\n",
    "        for j in range(len(regions[0]['favoris'])) : \n",
    "             ligne.append(0)\n",
    "        duels.append(ligne)\n",
    "    # on crée la table des index des candidats\n",
    "    candidats = regions[0]['favoris']\n",
    "    \n",
    "    #print(candidats)\n",
    "    \n",
    "    #pour chaque région\n",
    "    for region in regions :\n",
    "        #pour chaque favoris de chaque région\n",
    "        for candidat1 in region['favoris'] : \n",
    "            # on lui ajoute le nombre de votants contre les candidats qu'il bat \n",
    "            for candidat2 in region['favoris'][region['favoris'].index(candidat1)+1:] :\n",
    "                duels[candidats.index(candidat1)][candidats.index(candidat2)] += region['nb_votants']\n",
    "\n",
    "    #print(duels)\n",
    "    # on comptabilise maintenant le nombre de victoires dans le même tableau\n",
    "    for i in range(len(candidats)) :\n",
    "        for j in range(i+1, len(duels[i])) : \n",
    "            #print(\"Duel\",candidats[i],\"/\",candidats[j],\":\")\n",
    "            #print(candidats[i],\":\",duels[i][j],\"voix\")\n",
    "            #print(candidats[j],\":\",duels[j][i],\"voix\")\n",
    "            #print(candidats[i] if duels[i][j]>duels[j][i] else candidats[j], \"remporte !\")\n",
    "            if duels[i][j] > duels[j][i] :\n",
    "                duels[i][j] = 1 \n",
    "                duels[j][i] = 0\n",
    "            else :\n",
    "                duels[i][j] = 0 \n",
    "                duels[j][i] = 1\n",
    "            print(\"\\n\")\n",
    "                    \n",
    "    vainqueurs = []\n",
    "    for candidat in candidats :\n",
    "        vainqueur = dict()\n",
    "        vainqueur['candidat'] = candidat\n",
    "        vainqueur['duels'] = sum(duels[candidats.index(candidat)])\n",
    "        vainqueurs.append(vainqueur)\n",
    "                          \n",
    "    return tri_decroissant(vainqueurs,'duels')\n",
    "\n",
    "    \n",
    "print(scrutin_condorcet(regions))\n",
    "    "
   ]
  },
  {
   "cell_type": "markdown",
   "metadata": {},
   "source": [
    "## 4- Expériences avec des intentions aléatoires"
   ]
  },
  {
   "cell_type": "code",
   "execution_count": null,
   "metadata": {},
   "outputs": [],
   "source": [
    "candidats = [\"François\",\"Esperanza\",\"Ute\",\"Marcello\",\"John\", \"Chrisitna\"]\n",
    "\n",
    "nombre_regions = 7\n",
    "\n"
   ]
  }
 ],
 "metadata": {
  "colab": {
   "collapsed_sections": [],
   "name": "Le bon mode de scrutin.ipynb",
   "provenance": []
  },
  "kernelspec": {
   "display_name": "Python 3",
   "language": "python",
   "name": "python3"
  },
  "language_info": {
   "codemirror_mode": {
    "name": "ipython",
    "version": 3
   },
   "file_extension": ".py",
   "mimetype": "text/x-python",
   "name": "python",
   "nbconvert_exporter": "python",
   "pygments_lexer": "ipython3",
   "version": "3.7.6"
  }
 },
 "nbformat": 4,
 "nbformat_minor": 1
}
