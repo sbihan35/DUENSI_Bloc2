{
 "cells": [
  {
   "cell_type": "markdown",
   "metadata": {
    "colab_type": "text",
    "id": "2-ToYp8xvLTB"
   },
   "source": [
    "# Le bon mode de scrutin\n",
    "\n",
    "## 1- Introduction\n",
    "Six régions vont voter pour la présidence de l'union européenne. Cinq candidats se présentent à l'élection, un candidat pour cinq des six régions :   \n",
    "- Le candidat français : François\n",
    "- Le candidat espagnol : Esperanza\n",
    "- Le candidat allemand : Ute \n",
    "- Le candidat italien : Marcello\n",
    "- Le candidat anglais : John \n",
    "\n",
    "\n",
    "Différents modes de scrutins sont étudiés afin de déterminer celui qui est le plus favorable à un candidat : \n",
    "- Election à un tour \n",
    "- Election à deux tours\n",
    "- Election par élimination (last man standing)\n",
    "- Système de Borda\n",
    "- Système de Condorcet\n",
    "\n",
    "Cliquez sur cette [vidéo](https://www.youtube.com/watch?v=B2JvW8ma9Vc) pour visualiser les différents modes de scrutin.\n",
    "\n",
    "\n",
    "## 2- Intentions de vote\n",
    "Dans cet exercice, on considère les intentions de vote des six régions suivantes avec le nombre d'électeurs par région : \n",
    "\n",
    "| | Région 1 (7,2 M) | Région 2 (4,8 M) | Région 3 (4M) | Région 4 (3,6) | Région 5 (1,6 M) | Région 6 (0,8)\n",
    "| - | :-: | :-: | :-: | :-: | :-: | :-: |\n",
    "|1|![FR](images/FR.png)|![ALL](images/ALL.png)|![ES](images/ES.png)|![IT](images/IT.png)|![UK](images/UK.png)|![UK](images/UK.png)|\n",
    "|2|![IT](images/IT.png)|![UK](images/UK.png)|![ALL](images/ALL.png)|![ES](images/ES.png)|![ALL](images/ALL.png)|![ES](images/ES.png)|\n",
    "|3|![UK](images/UK.png)|![IT](images/IT.png)|![UK](images/UK.png)|![UK](images/UK.png)|![IT](images/IT.png)|![IT](images/IT.png)|\n",
    "|4|![ES](images/ES.png)|![ES](images/ES.png)|![IT](images/IT.png)|![ALL](images/ALL.png)|![ES](images/ES.png)|![ALL](images/ALL.png)|\n",
    "|5|![ALL](images/ALL.png)|![FR](images/FR.png)|![FR](images/FR.png)|![FR](images/FR.png)|![FR](images/FR.png)|![FR](images/FR.png)|\n",
    "\n",
    "\n",
    "\n"
   ]
  },
  {
   "cell_type": "markdown",
   "metadata": {
    "colab_type": "text",
    "id": "DiMRfo41vLTF"
   },
   "source": [
    "## 4- Structure de données\n",
    "On crée une liste de scrutins par région, chaque région est un dictionnaire la liste ordonnée des candidats choisis (scrutin) et le nombre d'électeurs de la région.\n"
   ]
  },
  {
   "cell_type": "code",
   "execution_count": 1,
   "metadata": {
    "colab": {
     "base_uri": "https://localhost:8080/",
     "height": 330
    },
    "colab_type": "code",
    "executionInfo": {
     "elapsed": 937,
     "status": "ok",
     "timestamp": 1593883451456,
     "user": {
      "displayName": "Stéphane Bihan",
      "photoUrl": "",
      "userId": "11017077608713182321"
     },
     "user_tz": -120
    },
    "id": "_ymHRoDsvLTK",
    "outputId": "f5ba075c-31ca-4337-d84e-4e067234e1ab"
   },
   "outputs": [
    {
     "data": {
      "text/plain": [
       "[{'region_id': 1,\n",
       "  'nb_votants': 7200000,\n",
       "  'elus': ['François', 'Marcello', 'John', 'Esperanza', 'Ute']},\n",
       " {'region_id': 3,\n",
       "  'nb_votants': 4000000,\n",
       "  'elus': ['Esperanza', 'Ute', 'John', 'Marcello', 'François']},\n",
       " {'region_id': 4,\n",
       "  'nb_votants': 3600000,\n",
       "  'elus': ['Marcello', 'Esperanza', 'John', 'Ute', 'François']},\n",
       " {'region_id': 5,\n",
       "  'nb_votants': 1600000,\n",
       "  'elus': ['John', 'Ute', 'Marcello', 'Esperanza', 'François']},\n",
       " {'region_id': 2,\n",
       "  'nb_votants': 4800000,\n",
       "  'elus': ['Ute', 'John', 'Marcello', 'Esperanza', 'François']},\n",
       " {'region_id': 6,\n",
       "  'nb_votants': 800000,\n",
       "  'elus': ['John', 'Esperanza', 'Marcello', 'Ute', 'François']}]"
      ]
     },
     "execution_count": 1,
     "metadata": {},
     "output_type": "execute_result"
    }
   ],
   "source": [
    "candidats = [\"François\",\"Esperanza\",\"Ute\",\"Marcello\",\"John\"]\n",
    "\n",
    "# Intentions de vote par région : liste de dictionnaires par région\n",
    "# chaque région est représentée par un dictionnaire contenant le nombre d'électeurs \n",
    "# et la liste ordonnée des candidats préférés \n",
    "\n",
    "scrutins = list()\n",
    "\n",
    "region_1 = dict()\n",
    "region_1[\"region_id\"] = 1\n",
    "region_1[\"nb_votants\"] = 7200000\n",
    "region_1[\"elus\"] = [candidats[0],candidats[3],candidats[4],candidats[1],candidats[2]]\n",
    "scrutins.append(region_1)\n",
    "\n",
    "region_3 = dict()\n",
    "region_3[\"region_id\"] = 3\n",
    "region_3[\"nb_votants\"] = 4000000\n",
    "region_3[\"elus\"] = [candidats[1],candidats[2],candidats[4],candidats[3],candidats[0]]\n",
    "scrutins.append(region_3)\n",
    "\n",
    "region_4 = dict()\n",
    "region_4[\"region_id\"] = 4\n",
    "region_4[\"nb_votants\"] = 3600000\n",
    "region_4[\"elus\"] = [candidats[3],candidats[1],candidats[4],candidats[2],candidats[0]]\n",
    "scrutins.append(region_4)\n",
    "\n",
    "region_5 = dict()\n",
    "region_5[\"region_id\"] = 5\n",
    "region_5[\"nb_votants\"] = 1600000\n",
    "region_5[\"elus\"] = [candidats[4],candidats[2],candidats[3],candidats[1],candidats[0]]\n",
    "scrutins.append(region_5)\n",
    "\n",
    "region_2 = dict()\n",
    "region_2[\"region_id\"] = 2\n",
    "region_2[\"nb_votants\"] = 4800000\n",
    "region_2[\"elus\"] = [candidats[2],candidats[4],candidats[3],candidats[1],candidats[0]]\n",
    "scrutins.append(region_2)\n",
    "\n",
    "region_6 = dict()\n",
    "region_6[\"region_id\"] = 6\n",
    "region_6[\"nb_votants\"] = 800000\n",
    "region_6[\"elus\"] = [candidats[4],candidats[1],candidats[3],candidats[2],candidats[0]]\n",
    "scrutins.append(region_6)\n",
    "\n",
    "scrutins"
   ]
  },
  {
   "cell_type": "code",
   "execution_count": 2,
   "metadata": {
    "colab": {},
    "colab_type": "code",
    "executionInfo": {
     "elapsed": 866,
     "status": "ok",
     "timestamp": 1593883458955,
     "user": {
      "displayName": "Stéphane Bihan",
      "photoUrl": "",
      "userId": "11017077608713182321"
     },
     "user_tz": -120
    },
    "id": "GWuq1QVHvLTf"
   },
   "outputs": [],
   "source": [
    "def tri_decroissant(liste, cle) :\n",
    "    \"\"\" \"\"\"\n",
    "    assert len(liste) > 0, \"la liste ne doit pas être vide\"\n",
    "    \n",
    "    for i in range(1, len(liste)):\n",
    "        #on commence le tri de liste[0:i]\n",
    "        j = i - 1\n",
    "        tmp = liste[i] #on stocke la valeur de liste[i]\n",
    "        while j > -1 and liste[j][cle] < tmp[cle]:\n",
    "            liste[j+1] = liste[j] #on decale les valeurs à droite\n",
    "            j -= 1\n",
    "        liste[j+1] = tmp # on place la valeur de l'ancien liste[i]\n",
    "    return liste"
   ]
  },
  {
   "cell_type": "markdown",
   "metadata": {
    "colab_type": "text",
    "id": "tp2kAKoHvLTr"
   },
   "source": [
    "## 3- Simulation des différents modes de scrutin\n",
    "### a) Election à un tour\n",
    "Le candidat qui a le plus de voix au premier tour l'emporte. \n",
    "Si un même candidat arrive premier dans plusieurs régions, on totalise ses votes dans chaque région. "
   ]
  },
  {
   "cell_type": "code",
   "execution_count": null,
   "metadata": {
    "colab": {},
    "colab_type": "code",
    "id": "cl931kHsvLTt",
    "outputId": "0f1388a4-72bd-4bbc-af79-4abf99d0d498"
   },
   "outputs": [],
   "source": [
    "!pip install metakernel"
   ]
  },
  {
   "cell_type": "code",
   "execution_count": null,
   "metadata": {
    "colab": {},
    "colab_type": "code",
    "id": "2WYwCVgfvLT3"
   },
   "outputs": [],
   "source": [
    "from metakernel import register_ipython_magics\n",
    "register_ipython_magics()"
   ]
  },
  {
   "cell_type": "code",
   "execution_count": null,
   "metadata": {
    "colab": {
     "base_uri": "https://localhost:8080/",
     "height": 34
    },
    "colab_type": "code",
    "executionInfo": {
     "elapsed": 925,
     "status": "ok",
     "timestamp": 1593883557180,
     "user": {
      "displayName": "Stéphane Bihan",
      "photoUrl": "",
      "userId": "11017077608713182321"
     },
     "user_tz": -120
    },
    "id": "ubGRxYIAvLT_",
    "outputId": "40925f95-cafb-47da-bbe5-8130b36befb1"
   },
   "outputs": [],
   "source": [
    "# %%tutor\n",
    "def scrutin_un_tour(scrutins : list) -> list :\n",
    "    \"\"\"\n",
    "    A partir de la liste des scrutins de chaque région, renvoie la liste ordonnée des gagnants au premier tour.\n",
    "    \"\"\"\n",
    "\n",
    "    # dictionnaire des gagnants au premier tour avec le cumul des intentions de vote \n",
    "    gagnants = dict()\n",
    "    for region in (scrutins) :\n",
    "        # on récupère le vainqueur par région\n",
    "        gagnant = region['elus'][0]\n",
    "        if gagnant in gagnants : \n",
    "            gagnants[gagnant] += region['nb_votants']\n",
    "        else :\n",
    "            gagnants[gagnant] = region['nb_votants']\n",
    "            \n",
    "    #print(gagnants)\n",
    "    # On remet en forme en créant une liste des gagnants\n",
    "    vainqueurs = []\n",
    "    for candidat, nb_voix in gagnants.items() :\n",
    "        vainqueur = dict()\n",
    "        vainqueur['candidat'] = candidat\n",
    "        vainqueur['nb_voix'] = nb_voix\n",
    "        vainqueurs.append(vainqueur)\n",
    "        \n",
    "    return tri_decroissant(vainqueurs,'nb_voix')\n",
    "    "
   ]
  },
  {
   "cell_type": "code",
   "execution_count": null,
   "metadata": {},
   "outputs": [],
   "source": [
    "vainqueurs = scrutin_un_tour(scrutins)\n",
    "# on fait attention au cas où les deux premiers candidats sont ex aequo\n",
    "if vainqueurs[0]['nb_voix'] == vainqueurs[1]['nb_voix'] :\n",
    "    print(\"Ex aequo :\", vainqueurs[0]['candidat'], \"et\", vainqueurs[1]['candidat'], \"avec\", vainqueurs[0]['nb_voix'], \"voix\" )\n",
    "else : \n",
    "    print(vainqueurs[0]['candidat'], \"est élu avec\", vainqueurs[0]['nb_voix'] ,\" voix !\")\n",
    "print(vainqueurs)"
   ]
  },
  {
   "cell_type": "markdown",
   "metadata": {
    "colab_type": "text",
    "id": "AfrG8g7SvLUI"
   },
   "source": [
    "### b) Election à deux tours\n",
    "Les deux candidats en tête du premier tour sont qualifiés pour le 2<sup>nd</sup> tour. \n",
    "Au second tour, on reporte le nombre de votants des régions en lice sur les candidats du premier tour.  \n",
    "\n",
    "Le vainqueur est celui qui a obtenu le plus de votants au deuxième tour."
   ]
  },
  {
   "cell_type": "code",
   "execution_count": null,
   "metadata": {
    "colab": {},
    "colab_type": "code",
    "id": "8YRtmxeRy4KH"
   },
   "outputs": [],
   "source": [
    "#%%tutor\n",
    "\n",
    "def scrutin_deux_tours(scrutins : list) :\n",
    "    \n",
    "    # on réalise d'abord un premier tour \n",
    "    vainqueurs_premier_tour = scrutin_un_tour(scrutins)\n",
    "    vainqueur1 = vainqueurs_premier_tour[0]['candidat']\n",
    "    vainqueur2 = vainqueurs_premier_tour[1]['candidat']\n",
    "    print(\"Au premier tour les gagnants sont :\", vainqueur1, vainqueurs_premier_tour[0]['nb_voix'], \"voix et\", vainqueur2, vainqueurs_premier_tour[1]['nb_voix'], \"voix\")\n",
    "\n",
    "    # pour le deuxième tour, on crée une liste comptabilisant les voix des deux candidats \n",
    "    # dans les régions n'ayant pas voté pour eux au premier tour\n",
    "    vainqueurs_deuxieme_tour = {vainqueur1 : 0, vainqueur2 : 0}\n",
    "    \n",
    "    # on parcourt le scrutin par région\n",
    "    for region in scrutins :\n",
    "        #print(\"region\", region['region_id'])\n",
    "        if region['elus'][0] == vainqueur1 or region['elus'][0] == vainqueur2 :\n",
    "            # la région a voté au premier tour pour l'un des deux vainqueurs\n",
    "            # on passe à la région suivante\n",
    "            # print(\"Candidat\", region['elus'][0], \": on passe à la région suivante\")\n",
    "            continue\n",
    "        else :\n",
    "            #on parcourt les élus suivants jusqu'à ce qu'il soit l'un des deux candidats du 1er tour\n",
    "            for i in range (1, len(region['elus'])) :\n",
    "                # print(region['elus'][i])\n",
    "                if region['elus'][i] == vainqueur2 or region['elus'][i] == vainqueur2 :\n",
    "                    vainqueurs_deuxieme_tour[region['elus'][i]] += region['nb_votants']\n",
    "                    # print(\"on ajoute,\", region['nb_votants'], \"soit\", vainqueurs_deuxieme_tour[region['elus'][i]] )\n",
    "                    break\n",
    "\n",
    "    #Mise en forme\n",
    "    vainqueurs = []\n",
    "    for candidat, nb_voix in vainqueurs_deuxieme_tour.items() :\n",
    "        vainqueur = dict()\n",
    "        vainqueur['candidat'] = candidat\n",
    "        vainqueur['nb_voix'] = nb_voix\n",
    "        vainqueurs.append(vainqueur)\n",
    "        \n",
    "    print(\"Au deuxième tour le gagnant est :\", vainqueurs[0]['candidat'] if vainqueurs[0]['nb_voix'] > vainqueurs[1]['nb_voix'] else vainqueurs[1]['candidat'])\n",
    "    return tri_decroissant(vainqueurs,'nb_voix')\n",
    "    \n",
    "print(scrutin_deux_tours(scrutins))"
   ]
  },
  {
   "cell_type": "markdown",
   "metadata": {},
   "source": [
    "### c) Election par élimination"
   ]
  },
  {
   "cell_type": "code",
   "execution_count": null,
   "metadata": {},
   "outputs": [],
   "source": [
    "import copy\n",
    "\n",
    "def reporte_voix(scrutins : list, candidats : list, nb_voix : int) :\n",
    "    candidats_en_lice = []\n",
    "    for region in scrutins :\n",
    "        if candidats[0] != region['elus'][0] : # sinon c'est un candidat éliminé (ensuite)\n",
    "            candidats_en_lice.append(region['elus'][0])\n",
    "    #print(candidats_en_lice)\n",
    "    \n",
    "    reporte = False\n",
    "    for candidat in candidats : \n",
    "        if candidat not in candidats_en_lice : \n",
    "            continue\n",
    "        if reporte == True : \n",
    "            break\n",
    "        for region in scrutins : \n",
    "            # print(\"Région\", region['region_id'], \"Elus :\", region['elus'])\n",
    "            # print(\"on vérifie\", candidat, \"avec \", region['elus'][0])\n",
    "            if candidat in candidats_en_lice and region['elus'][0] == candidat :\n",
    "                # print(\"on reporte\", region['nb_votants'])\n",
    "                region['nb_votants'] += nb_voix\n",
    "                reporte = True\n",
    "                break\n",
    "\n",
    "def scrutin_par_elimination(scrutins : list) :\n",
    "    # on crée la liste des vainqueurs pour chaque tour \n",
    "    vainqueurs_elimination = scrutin_un_tour(scrutins)\n",
    "    \n",
    "    tour = 1 \n",
    "    while len(scrutins) > 2 :\n",
    "        print(\"Tour\", tour, \": \")\n",
    "        print(vainqueurs_elimination)\n",
    "        print(\"Candidat éliminé :\", vainqueurs_elimination[-1]['candidat'])\n",
    "        candidat_elimine = vainqueurs_elimination[-1]['candidat']\n",
    "        \n",
    "        for region in scrutins : \n",
    "            if region['elus'][0] == candidat_elimine : \n",
    "                # on supprime la région du scrutin\n",
    "                region_eliminee = scrutins.pop(scrutins.index(region))\n",
    "                # on reporte les voix du second candidat\n",
    "                reporte_voix(scrutins, region_eliminee['elus'], region['nb_votants'])\n",
    "        #on refait un tour sur le scrutin restant\n",
    "        vainqueurs_elimination = scrutin_un_tour(scrutins)\n",
    "        tour += 1\n",
    "\n",
    "        print(vainqueurs_elimination)\n",
    "    # Mise en forme\n",
    "    vainqueurs = []\n",
    "    for candidat in vainqueurs_elimination : \n",
    "        vainqueur = dict()\n",
    "        vainqueur['candidat'] = candidat['candidat']\n",
    "        vainqueur['nb_voix'] = candidat['nb_voix']\n",
    "        vainqueurs.append(vainqueur)\n",
    "    print(\"Le vainqueur est :\", vainqueurs[0]['candidat'],\"avec\", vainqueurs[0]['nb_voix'], \"voix\" )\n",
    "    return vainqueurs\n",
    "\n",
    "print(scrutin_par_elimination(copy.deepcopy(scrutins)))\n",
    "\n",
    "    "
   ]
  }
 ],
 "metadata": {
  "colab": {
   "collapsed_sections": [],
   "name": "Le bon mode de scrutin.ipynb",
   "provenance": []
  },
  "kernelspec": {
   "display_name": "Python 3",
   "language": "python",
   "name": "python3"
  },
  "language_info": {
   "codemirror_mode": {
    "name": "ipython",
    "version": 3
   },
   "file_extension": ".py",
   "mimetype": "text/x-python",
   "name": "python",
   "nbconvert_exporter": "python",
   "pygments_lexer": "ipython3",
   "version": "3.7.6"
  }
 },
 "nbformat": 4,
 "nbformat_minor": 1
}
