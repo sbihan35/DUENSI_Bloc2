{
 "cells": [
  {
   "cell_type": "markdown",
   "metadata": {
    "colab_type": "text",
    "id": "2-ToYp8xvLTB"
   },
   "source": [
    "# Le bon mode de scrutin\n",
    "\n",
    "## 1- Introduction\n",
    "Six régions vont voter pour la présidence de l'union européenne. Cinq candidats se présentent à l'élection :   \n",
    "- Le candidat français : François\n",
    "- Le candidat espagnol : Esperanza\n",
    "- Le candidat allemand : Ute \n",
    "- Le candidat italien : Marcello\n",
    "- Le candidat anglais : John \n",
    "\n",
    "\n",
    "Différents modes de scrutins sont étudiés afin de déterminer celui qui est le plus favorable à un candidat : \n",
    "- Election à un tour \n",
    "- Election à deux tours\n",
    "- Election par élimination (last man standing)\n",
    "- Système de Borda\n",
    "- Système de Condorcet\n",
    "\n",
    "Cliquez sur cette [vidéo](https://www.youtube.com/watch?v=B2JvW8ma9Vc) pour visualiser les différents modes de scrutin.\n",
    "\n",
    "\n",
    "## 2- Intentions de vote\n",
    "Dans cet exercice, on considère les intentions de vote des six régions suivantes avec leur nombre d'électeurs : \n",
    "\n",
    "| | Région 1 (7,2 M) | Région 2 (4,8 M) | Région 3 (4M) | Région 4 (3,6) | Région 5 (1,6 M) | Région 6 (0,8)\n",
    "| - | :-: | :-: | :-: | :-: | :-: | :-: |\n",
    "|1|![FR](images/FR.png)|![ALL](images/ALL.png)|![ES](images/ES.png)|![IT](images/IT.png)|![UK](images/UK.png)|![UK](images/UK.png)|\n",
    "|2|![IT](images/IT.png)|![UK](images/UK.png)|![ALL](images/ALL.png)|![ES](images/ES.png)|![ALL](images/ALL.png)|![ES](images/ES.png)|\n",
    "|3|![UK](images/UK.png)|![IT](images/IT.png)|![UK](images/UK.png)|![UK](images/UK.png)|![IT](images/IT.png)|![IT](images/IT.png)|\n",
    "|4|![ES](images/ES.png)|![ES](images/ES.png)|![IT](images/IT.png)|![ALL](images/ALL.png)|![ES](images/ES.png)|![ALL](images/ALL.png)|\n",
    "|5|![ALL](images/ALL.png)|![FR](images/FR.png)|![FR](images/FR.png)|![FR](images/FR.png)|![FR](images/FR.png)|![FR](images/FR.png)|\n",
    "\n",
    "\n",
    "\n"
   ]
  },
  {
   "cell_type": "markdown",
   "metadata": {
    "colab_type": "text",
    "id": "DiMRfo41vLTF"
   },
   "source": [
    "## 3- Structure de données\n",
    "On crée une liste de régions, chaque région est un dictionnaire donnant le nombre d'électeurs de la liste des intentions de vote de la région triés par ordre décroissant. \n"
   ]
  },
  {
   "cell_type": "code",
   "execution_count": 13,
   "metadata": {
    "colab": {
     "base_uri": "https://localhost:8080/",
     "height": 330
    },
    "colab_type": "code",
    "executionInfo": {
     "elapsed": 937,
     "status": "ok",
     "timestamp": 1593883451456,
     "user": {
      "displayName": "Stéphane Bihan",
      "photoUrl": "",
      "userId": "11017077608713182321"
     },
     "user_tz": -120
    },
    "id": "_ymHRoDsvLTK",
    "outputId": "f5ba075c-31ca-4337-d84e-4e067234e1ab"
   },
   "outputs": [
    {
     "name": "stdout",
     "output_type": "stream",
     "text": [
      "[{'nb_electeurs': 7200000, 'candidats': ['Francois', 'Marcello', 'John', 'Esperanza', 'Ute']}, {'nb_electeurs': 4800000, 'candidats': ['Ute', 'John', 'Marcello', 'Esperanza', 'Francois']}, {'nb_electeurs': 4000000, 'candidats': ['Esperanza', 'Ute', 'John', 'Marcello', 'Francois']}, {'nb_electeurs': 3600000, 'candidats': ['Marcello', 'Esperanza', 'John', 'Ute', 'Francois']}, {'nb_electeurs': 1600000, 'candidats': ['John', 'Ute', 'Marcello', 'Esperanza', 'Francois']}, {'nb_electeurs': 800000, 'candidats': ['John', 'Esperanza', 'Marcello', 'Ute', 'Francois']}]\n"
     ]
    }
   ],
   "source": [
    "# on crée un dictionnaire pour chacune des six régions\n",
    "region1 = {'nb_electeurs': 7200000, 'candidats': [\"Francois\", \"Marcello\", \"John\", \"Esperanza\", \"Ute\"]}\n",
    "region2 = {'nb_electeurs': 4800000, 'candidats': [\"Ute\", \"John\", \"Marcello\", \"Esperanza\", \"Francois\"]}\n",
    "region3 = {'nb_electeurs': 4000000, 'candidats': [\"Esperanza\", \"Ute\", \"John\", \"Marcello\", \"Francois\"]}\n",
    "region4 = {'nb_electeurs': 3600000, 'candidats': [\"Marcello\", \"Esperanza\", \"John\", \"Ute\", \"Francois\"]}\n",
    "region5 = {'nb_electeurs': 1600000, 'candidats': [\"John\", \"Ute\", \"Marcello\", \"Esperanza\", \"Francois\"]}\n",
    "region6 = {'nb_electeurs': 800000, 'candidats': [\"John\", \"Esperanza\", \"Marcello\", \"Ute\", \"Francois\"]}\n",
    "\n",
    "# on regroupe les régions dans une liste\n",
    "regions = [region1, region2, region3, region4, region5, region6]\n",
    "print(regions)"
   ]
  },
  {
   "cell_type": "markdown",
   "metadata": {},
   "source": [
    "## 4- Algorithme de tri\n",
    "Nous allons avoir besoin de trier des listes de dictionnaires selon l'ordre décroissant des valeurs d'une clé (correspondant aux nombres d'électeurs, de voix, de points...).\n",
    "Voici un algorithme de tri par insertion qu'on va pouvoir utiliser :"
   ]
  },
  {
   "cell_type": "code",
   "execution_count": 3,
   "metadata": {
    "colab": {},
    "colab_type": "code",
    "executionInfo": {
     "elapsed": 866,
     "status": "ok",
     "timestamp": 1593883458955,
     "user": {
      "displayName": "Stéphane Bihan",
      "photoUrl": "",
      "userId": "11017077608713182321"
     },
     "user_tz": -120
    },
    "id": "GWuq1QVHvLTf"
   },
   "outputs": [],
   "source": [
    "#d'après module I ; Erwann Gallenne - modifié pour ordre décroissant\n",
    "def liste_triInsertionDictionnaire(liste ,cle) : \n",
    "    for i in range(1, len(liste)): #on commence le tri de liste[0:i] \n",
    "        j = i - 1 \n",
    "        tmp = liste[i] #on stocke la valeur de liste[i] \n",
    "        while j > -1 and liste[j][cle] < tmp[cle]: \n",
    "            liste[j+1] = liste[j] #on decale les valeurs à droite \n",
    "            j -= 1 \n",
    "            liste[j+1] = tmp # on place la valeur de l'ancien liste[i] \n",
    "    return liste "
   ]
  },
  {
   "cell_type": "markdown",
   "metadata": {
    "colab_type": "text",
    "id": "tp2kAKoHvLTr"
   },
   "source": [
    "## 3- Simulation des différents modes de scrutin\n",
    "### a) Election à un tour\n",
    "Un candidat remporte le nombre de voix de la région où il est arrivé en tête. \n",
    "\n",
    "S'il arrive en tête dans plusieurs régions, les voix sont ajoutés. \n",
    "\n",
    "Celui qui remporte le plus de voix est vainqueur de l'élection à un tour. "
   ]
  },
  {
   "cell_type": "code",
   "execution_count": 26,
   "metadata": {
    "colab": {
     "base_uri": "https://localhost:8080/",
     "height": 34
    },
    "colab_type": "code",
    "executionInfo": {
     "elapsed": 925,
     "status": "ok",
     "timestamp": 1593883557180,
     "user": {
      "displayName": "Stéphane Bihan",
      "photoUrl": "",
      "userId": "11017077608713182321"
     },
     "user_tz": -120
    },
    "id": "ubGRxYIAvLT_",
    "outputId": "40925f95-cafb-47da-bbe5-8130b36befb1"
   },
   "outputs": [],
   "source": [
    "def election_un_tour(regions : list) -> list :\n",
    "    \"\"\"\n",
    "    Renvoie la liste ordonnée des vainqueurs au premier tour. \n",
    "    Chaque vainqueur est un dictionnaire ayant pour clés 'candidat' (str) et 'voix' (int)\n",
    "    Préconditions : liste de dictionnaires ayant pour clés 'candidats' (liste de caractères)\n",
    "    et 'nb_electeurs' (int) \n",
    "    Postconditions : liste de dictionnaires \n",
    "    \"\"\"    \n",
    "    \n",
    "    resultats = []\n",
    "    # on récupère la liste des candidats à partir des intentions de vote de la première région\n",
    "    # (tous les candidats sont représentés dans les intentions de vote de chaque région) \n",
    "    candidats = regions[0]['candidats']\n",
    "\n",
    "    # resultats est une liste de dictionnaires qui contiennent le nom de chaque candidat et \n",
    "    # le nombre de voix qu'il obtient à l'issue d'un tour de scrutin. \n",
    "    # On initialise le nombre de voix de chaque candidat à 0     \n",
    "    for candidat in candidats :\n",
    "        resultats.append({'candidat' : candidat, 'voix' : 0}) \n",
    "        \n",
    "    # pour chaque région \n",
    "    for region in regions :  \n",
    "        # le favori est le candidat arrivé en tête des intentions\n",
    "        favori = region['candidats'][0]                   \n",
    "        \n",
    "        # on ajoute les voix des électeurs de la région au favori  \n",
    "        for candidat in resultats :\n",
    "            if candidat['candidat'] == favori : \n",
    "                candidat['voix'] += region['nb_electeurs'] \n",
    "                \n",
    "    return liste_triInsertionDictionnaire(resultats, 'voix')"
   ]
  },
  {
   "cell_type": "code",
   "execution_count": 45,
   "metadata": {},
   "outputs": [
    {
     "name": "stdout",
     "output_type": "stream",
     "text": [
      "[{'candidat': 'Francois', 'voix': 7200000}, {'candidat': 'Ute', 'voix': 4800000}, {'candidat': 'Esperanza', 'voix': 4000000}, {'candidat': 'Marcello', 'voix': 3600000}, {'candidat': 'John', 'voix': 2400000}]\n"
     ]
    }
   ],
   "source": [
    "print(election_un_tour(regions))"
   ]
  },
  {
   "cell_type": "markdown",
   "metadata": {
    "colab_type": "text",
    "id": "AfrG8g7SvLUI"
   },
   "source": [
    "### b) Election à deux tours\n",
    "Les deux candidats en tête du premier tour sont qualifiés pour le 2<sup>nd</sup> tour. \n",
    "\n",
    "Au second tour, on reporte le nombre de voix des régions qui n'ont pas voté pour les qualifiés du premier tour sur celui le mieux placé dans les intentions de vote de la région. \n",
    "\n",
    "Le vainqueur est celui qui a obtenu le plus de voix à l'issue du deuxième tour."
   ]
  },
  {
   "cell_type": "code",
   "execution_count": 144,
   "metadata": {
    "colab": {},
    "colab_type": "code",
    "id": "8YRtmxeRy4KH"
   },
   "outputs": [],
   "source": [
    "def election_deux_tours(regions : list) -> list :\n",
    "    \"\"\"\n",
    "    Renvoie la liste ordonnée des vainqueurs au premier tour. \n",
    "    Chaque vainqueur est un dictionnaire ayant pour clés 'candidat' (str) et 'voix' (int)\n",
    "    Préconditions : liste de dictionnaires ayant pour clés 'candidats' (liste de caractères)\n",
    "    et 'nb_electeurs' (int) \n",
    "    Postconditions : liste de dictionnaires \n",
    "    \"\"\"\n",
    "    \n",
    "    # on récupère les deux candidats en tête du premier tour\n",
    "    vainqueurs_premier_tour = election_un_tour(regions)\n",
    "    qualifie1 = vainqueurs_premier_tour[0]['candidat']\n",
    "    qualifie2 = vainqueurs_premier_tour[1]['candidat']\n",
    "\n",
    "    # pour le deuxième tour, on crée une liste pour comptabiliser \n",
    "    # les voix des deux favoris dans les régions qui ne les ont pas \n",
    "    # choisis au premier tour\n",
    "    vainqueurs_deuxieme_tour = {qualifie1 : 0, qualifie2 : 0}\n",
    "    \n",
    "    # on parcourt les régions\n",
    "    for region in regions :\n",
    "        if region['candidats'][0] == qualifie1 or region['candidats'][0] == qualifie2 :\n",
    "            # la région a choisi l'un des deux qualifiés au premier tour \n",
    "            # on passe à la région suivante\n",
    "            continue\n",
    "            \n",
    "        #cette région n'a pas choisi les qualifiés au premier tour\n",
    "        #on parcourt ses candidats jusqu'à ce qu'il soit l'un des deux qualifiés \n",
    "        for i in range (1, len(region['candidats'])) :\n",
    "            if region['candidats'][i] == qualifie1 or region['candidats'][i] == qualifie2 :\n",
    "                vainqueurs_deuxieme_tour[region['candidats'][i]] += region['nb_electeurs']\n",
    "                break # on arrête de parcourir les candidats de la région\n",
    "\n",
    "    #Mise en forme des résultats dans une liste de dictionnaires\n",
    "    resultats_second_tour = []\n",
    "    for candidat, nb_voix in vainqueurs_deuxieme_tour.items() :\n",
    "        vainqueur = dict()\n",
    "        vainqueur['candidat'] = candidat\n",
    "        vainqueur['voix'] = nb_voix\n",
    "        resultats_second_tour.append(vainqueur)\n",
    "        \n",
    "    return liste_triInsertionDictionnaire(resultats_second_tour, 'voix')       "
   ]
  },
  {
   "cell_type": "code",
   "execution_count": 145,
   "metadata": {},
   "outputs": [
    {
     "name": "stdout",
     "output_type": "stream",
     "text": [
      "[{'candidat': 'Ute', 'voix': 10000000}, {'candidat': 'Francois', 'voix': 0}]\n"
     ]
    }
   ],
   "source": [
    "print(election_deux_tours(regions))"
   ]
  },
  {
   "cell_type": "markdown",
   "metadata": {},
   "source": [
    "### c) Election par élimination\n",
    "On réalise plusieurs  tours. A chaque tour, le candidat qui a le moins de voix est éliminé. \n",
    "Le candidat restant est le vainqueur. "
   ]
  },
  {
   "cell_type": "code",
   "execution_count": 90,
   "metadata": {},
   "outputs": [],
   "source": [
    "def election_par_elimination(regions : list) -> list:\n",
    "    \"\"\"\n",
    "    Renvoie la liste ordonnée des vainqueurs au premier tour. \n",
    "    Chaque vainqueur est un dictionnaire ayant pour clés 'candidat' (str) et 'voix' (int)\n",
    "    Préconditions : liste de dictionnaires ayant pour clés 'candidats' (liste de caractères)\n",
    "    et 'nb_electeurs' (int) \n",
    "    Postconditions : liste de dictionnaires \n",
    "    \"\"\"\n",
    "    \n",
    "    # liste des candidat éliminés à chaque tour\n",
    "    candidats_elimines = []\n",
    "    nb_candidats = len(regions[0]['candidats'])\n",
    "    nb_candidats_en_lice = nb_candidats\n",
    "    \n",
    "    regions_courantes = regions\n",
    "\n",
    "    while nb_candidats_en_lice > 1 : \n",
    "        candidats_en_lice = election_un_tour(regions_courantes)\n",
    "                               \n",
    "        # on ajoute le candidat éliminé à la liste des candidats éliminés :\n",
    "        candidats_elimines.append(candidats_en_lice[-1][\"candidat\"])\n",
    "        nb_candidats_en_lice -= 1 # il y a donc un candidat en lice en moins\n",
    "        \n",
    "        # on reconstruit les régions avec, pour chacune d'elles, la liste des candidats moins ceux éliminés\n",
    "        regions_courantes = []\n",
    "        \n",
    "        for region in regions :\n",
    "            # nouvelle région avec le même nombre d'électeurs et la liste des candidats inititalisée à vide                    \n",
    "            region_courante = {\"nb_electeurs\" : region[\"nb_electeurs\"] , \"candidats\" : []} \n",
    "            \n",
    "            for i in range(nb_candidats) :\n",
    "                # on ajoute les candidats de la région non éliminés à la liste de candidats\n",
    "                if region[\"candidats\"][i] not in candidats_elimines :\n",
    "                    region_courante[\"candidats\"].append(region[\"candidats\"][i]) \n",
    "                            \n",
    "            # on ajoute la région actualisée à la liste des régions actualisées\n",
    "            regions_courantes.append(region_courante)\n",
    "              \n",
    "    return candidats_en_lice"
   ]
  },
  {
   "cell_type": "code",
   "execution_count": 91,
   "metadata": {},
   "outputs": [
    {
     "name": "stdout",
     "output_type": "stream",
     "text": [
      "[{'candidat': 'Esperanza', 'voix': 14800000}, {'candidat': 'Francois', 'voix': 7200000}]\n"
     ]
    }
   ],
   "source": [
    "print(election_par_elimination(regions))"
   ]
  },
  {
   "cell_type": "markdown",
   "metadata": {},
   "source": [
    "### d) Système de Borda\n",
    "On calcule un nombre de points pour chaque candidat basé sur le nombre d'électeurs d'une régions coefficienté par sa position dans le classement de la région. Par exemple, pour 5 candidats, le coefficient est de 5 s'il arrive en tête de la région, 4 s'il arrive second, etc.  \n",
    "\n",
    "On cumule le nombre de points pour chaque région. \n",
    "\n",
    "Le vainqueur est celui qui a le plus de points.\n"
   ]
  },
  {
   "cell_type": "code",
   "execution_count": 102,
   "metadata": {},
   "outputs": [],
   "source": [
    "def election_borda(regions : list) -> list :\n",
    "    \"\"\"\n",
    "     Renvoie la liste ordonnée des vainqueurs au premier tour. \n",
    "    Chaque vainqueur est un dictionnaire ayant pour clés 'candidat' (str) et 'voix' (int)\n",
    "    Préconditions : liste de dictionnaires ayant pour clés 'candidats' (liste de caractères)\n",
    "    et 'nb_electeurs' (int) \n",
    "    Postconditions : liste de dictionnaires \n",
    "    \"\"\"\n",
    "        \n",
    "    # initialisation de la liste des candidats avec le nombre de voix à 0\n",
    "    vainqueurs_borda = dict()\n",
    "    nb_candidats = len(regions[0]['candidats'])\n",
    "    for i in range(nb_candidats) : \n",
    "        vainqueurs_borda[regions[0]['candidats'][i]] = 0\n",
    "\n",
    "    # pour chaque région, on calcule les points de chaque candidat coefficienté par son arrivée dans les intentions\n",
    "    for region in regions : \n",
    "        coefficient = len(regions[0]['candidats'])\n",
    "        for candidat in region['candidats'] : \n",
    "            vainqueurs_borda[candidat] += coefficient * region['nb_electeurs']\n",
    "            coefficient -= 1 # on passe au candidat suivant, le coefficient baisse\n",
    "            \n",
    "    #on remet en forme les vainqueurs dans une liste de dictionnaires\n",
    "    vainqueurs = []\n",
    "    for candidat, nb_voix in vainqueurs_borda.items() :\n",
    "        vainqueur = dict()\n",
    "        vainqueur['candidat'] = candidat\n",
    "        vainqueur['voix'] = nb_voix\n",
    "        vainqueurs.append(vainqueur)\n",
    "                          \n",
    "    return liste_triInsertionDictionnaire(vainqueurs,'voix')"
   ]
  },
  {
   "cell_type": "code",
   "execution_count": 98,
   "metadata": {},
   "outputs": [
    {
     "name": "stdout",
     "output_type": "stream",
     "text": [
      "[{'candidat': 'Marcello', 'voix': 76400000}, {'candidat': 'John', 'voix': 75600000}, {'candidat': 'Esperanza', 'voix': 64800000}, {'candidat': 'Ute', 'voix': 62400000}, {'candidat': 'Francois', 'voix': 50800000}]\n"
     ]
    }
   ],
   "source": [
    "print(election_borda(regions))"
   ]
  },
  {
   "cell_type": "markdown",
   "metadata": {},
   "source": [
    "### e) Système de Condorcet \n",
    "L'idée ici est de compter, pour chaque candidat, le nombre de duels gagnés contre les autres candidats. \n",
    "\n",
    "Le principe de comptage est le suivant : \n",
    "pour une région donnée, un candidat mieux placé dans les intentions de vote remporte contre les autre candidats  un nombre de points égal au nombre d'électeurs de la région. \n",
    "\n",
    "On itère sur toutes les régions en cumulant le nombre de points pour chaque des duels. \n",
    "\n",
    "Le (ou les) candidat(s) ayant remporté le plus de duels en nombre de points gagne(nt)"
   ]
  },
  {
   "cell_type": "code",
   "execution_count": 116,
   "metadata": {},
   "outputs": [],
   "source": [
    "def election_condorcet(regions : list) -> list : \n",
    "    \"\"\"\n",
    "     Renvoie la liste ordonnée des vainqueurs au premier tour. \n",
    "    Chaque vainqueur est un dictionnaire ayant pour clés 'candidat' (str) et 'voix' (int)\n",
    "    Préconditions : liste de dictionnaires ayant pour clés 'candidats' (liste de caractères)\n",
    "    et 'nb_electeurs' (int) \n",
    "    Postconditions : liste de dictionnaires \n",
    "    \"\"\"\n",
    "    \n",
    "    # on initialise à 0 un tableau des duels à double entrée :\n",
    "    # candidat1 en ligne versus candidat2 en colonne\n",
    "    \n",
    "    nb_candidats = len(regions[0]['candidats'])\n",
    "    duels = []\n",
    "    #une ligne par candidat\n",
    "    for i in range(nb_candidats) : \n",
    "        ligne = []\n",
    "        for j in range(nb_candidats) : \n",
    "             ligne.append(0)\n",
    "        duels.append(ligne)\n",
    " \n",
    "    # on crée une table d'index des candidats\n",
    "    candidats = regions[0]['candidats']\n",
    "    \n",
    "    #pour chaque région\n",
    "    for region in regions :\n",
    "        #pour les duels des candidats de chaque région\n",
    "        for candidat1 in region['candidats'] :\n",
    "            index_candidat1 = region['candidats'].index(candidat1)\n",
    "            # on ajoute le nombre d'electeurs à ses duels contre tous les candidats suivants  \n",
    "            for candidat2 in region['candidats'][index_candidat1+1:] :\n",
    "                duels[candidats.index(candidat1)][candidats.index(candidat2)] += region['nb_electeurs']\n",
    "\n",
    "    # on identifie les duels gagnés \n",
    "    for i in range(len(candidats)) :\n",
    "        for j in range(i+1, len(duels[i])) : \n",
    "            if duels[i][j] > duels[j][i] :\n",
    "                duels[i][j] = 1 # duel gagné  \n",
    "                duels[j][i] = 0 # duel perdu \n",
    "            else :\n",
    "                duels[i][j] = 0 \n",
    "                duels[j][i] = 1\n",
    "                    \n",
    "    # Comptage des duels gagnés et mise en forme des résultats dans une liste de disctionnaires \n",
    "    vainqueurs = []\n",
    "    for candidat in candidats :\n",
    "        vainqueur = dict()\n",
    "        vainqueur['candidat'] = candidat\n",
    "        vainqueur['duels'] = sum(duels[candidats.index(candidat)])\n",
    "        vainqueurs.append(vainqueur)\n",
    "                          \n",
    "    return liste_triInsertionDictionnaire(vainqueurs,'duels')\n",
    "    "
   ]
  },
  {
   "cell_type": "code",
   "execution_count": 122,
   "metadata": {},
   "outputs": [
    {
     "name": "stdout",
     "output_type": "stream",
     "text": [
      "[{'candidat': 'John', 'duels': 4}, {'candidat': 'Marcello', 'duels': 3}, {'candidat': 'Esperanza', 'duels': 2}, {'candidat': 'Ute', 'duels': 1}, {'candidat': 'Francois', 'duels': 0}]\n"
     ]
    }
   ],
   "source": [
    "print(election_condorcet(regions))"
   ]
  },
  {
   "cell_type": "markdown",
   "metadata": {},
   "source": [
    "## 4- Simulation de tous les modes de scrutin"
   ]
  },
  {
   "cell_type": "code",
   "execution_count": 124,
   "metadata": {},
   "outputs": [
    {
     "name": "stdout",
     "output_type": "stream",
     "text": [
      "Francois gagne avec des élections à un tour\n",
      "Ute gagne avec des élections à deux tours\n",
      "Esperanza gagne avec des élections par élimination\n",
      "Marcello gagne avec un scrutin de Borda\n",
      "John gagne avec un scrutin de Condorcet\n"
     ]
    }
   ],
   "source": [
    "print(election_un_tour(regions)[0]['candidat'],\"gagne avec des élections à un tour\")\n",
    "print(election_deux_tours(regions)[0]['candidat'],\"gagne avec des élections à deux tours\")\n",
    "print(election_par_elimination(regions)[0]['candidat'],\"gagne avec des élections par élimination\")\n",
    "print(election_borda(regions)[0]['candidat'],\"gagne avec un scrutin de Borda\")\n",
    "print(election_condorcet(regions)[0]['candidat'],\"gagne avec un scrutin de Condorcet\")"
   ]
  }
 ],
 "metadata": {
  "colab": {
   "collapsed_sections": [],
   "name": "Le bon mode de scrutin.ipynb",
   "provenance": []
  },
  "kernelspec": {
   "display_name": "Python 3",
   "language": "python",
   "name": "python3"
  },
  "language_info": {
   "codemirror_mode": {
    "name": "ipython",
    "version": 3
   },
   "file_extension": ".py",
   "mimetype": "text/x-python",
   "name": "python",
   "nbconvert_exporter": "python",
   "pygments_lexer": "ipython3",
   "version": "3.7.6"
  }
 },
 "nbformat": 4,
 "nbformat_minor": 1
}
